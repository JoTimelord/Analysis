{
 "cells": [
  {
   "cell_type": "code",
   "execution_count": 5,
   "metadata": {},
   "outputs": [],
   "source": [
    "import numpy as np\n",
    "import torch.nn as nn\n",
    "from sklearn.model_selection import train_test_split\n",
    "from torch.utils.data import Dataset, DataLoader\n",
    "import torch\n",
    "from sklearn.metrics import roc_curve,roc_auc_score\n",
    "import matplotlib.pyplot as plt"
   ]
  },
  {
   "cell_type": "code",
   "execution_count": 6,
   "metadata": {},
   "outputs": [],
   "source": [
    "mean_sig = np.array([2.5, 2.5, 2])\n",
    "variance_sig = 1.5\n",
    "covariance_sig = np.array([\n",
    "        [1, 0, 0],\n",
    "        [0, 1, 0],\n",
    "        [0, 0, 1]\n",
    "])*(variance_sig)**2"
   ]
  },
  {
   "cell_type": "code",
   "execution_count": 7,
   "metadata": {},
   "outputs": [],
   "source": [
    "mean_bkg = np.array([0, 0, 0])\n",
    "variance_bkg = 1.5\n",
    "covariance_bkg = np.array([\n",
    "    [1, 0.8, 0],\n",
    "    [0.8, 1, 0],\n",
    "    [0, 0, 1]\n",
    "])*(variance_bkg**2)"
   ]
  },
  {
   "cell_type": "code",
   "execution_count": 8,
   "metadata": {},
   "outputs": [],
   "source": [
    "size=10000\n",
    "sig=np.random.multivariate_normal(mean_sig,covariance_sig,size)\n",
    "bkg=np.random.multivariate_normal(mean_bkg,covariance_bkg,size)"
   ]
  },
  {
   "cell_type": "code",
   "execution_count": 9,
   "metadata": {},
   "outputs": [],
   "source": [
    "X=np.concatenate((sig[:,1:],bkg[:,1:]))\n",
    "Y=np.concatenate((np.ones(size),np.zeros(size)))"
   ]
  },
  {
   "cell_type": "code",
   "execution_count": 10,
   "metadata": {},
   "outputs": [],
   "source": [
    "X_train, X_test, Y_train, Y_test = train_test_split(\n",
    "  X, Y, test_size=0.15, random_state=42)"
   ]
  },
  {
   "cell_type": "code",
   "execution_count": 11,
   "metadata": {},
   "outputs": [],
   "source": [
    "class Data(Dataset):\n",
    "  def __init__(self, X_train, y_train):\n",
    "    self.X = torch.from_numpy(X_train.astype(np.float32))\n",
    "    self.y = torch.from_numpy(y_train.astype(np.float32))\n",
    "    self.len = self.X.shape[0]\n",
    "  \n",
    "  def __getitem__(self, index):\n",
    "    return self.X[index], self.y[index]\n",
    "  def __len__(self):\n",
    "    return self.len"
   ]
  },
  {
   "cell_type": "code",
   "execution_count": 12,
   "metadata": {},
   "outputs": [],
   "source": [
    "traindata = Data(X_train, Y_train)"
   ]
  },
  {
   "cell_type": "code",
   "execution_count": 19,
   "metadata": {},
   "outputs": [],
   "source": [
    "batch_size=2000\n",
    "trainloader = DataLoader(traindata, batch_size=batch_size, \n",
    "                         shuffle=True, num_workers=1)"
   ]
  },
  {
   "cell_type": "code",
   "execution_count": 20,
   "metadata": {},
   "outputs": [],
   "source": [
    "input_size=2\n",
    "hidden_sizes=128\n",
    "output_size=1\n",
    "model = nn.Sequential(nn.Linear(input_size, hidden_sizes), # 1st hidden\n",
    "                      nn.ReLU(),\n",
    "                      nn.Linear(hidden_sizes, hidden_sizes), # 2nd hidden\n",
    "                      nn.ReLU(),\n",
    "                      nn.Linear(hidden_sizes, hidden_sizes), # 3rd hidden\n",
    "                      nn.ReLU(),\n",
    "                      nn.Linear(hidden_sizes, output_size), # output layer\n",
    "                      nn.Sigmoid()\n",
    "                     )"
   ]
  },
  {
   "cell_type": "code",
   "execution_count": 21,
   "metadata": {},
   "outputs": [],
   "source": [
    "learning_rate = 0.001\n",
    "epochs = 40\n",
    "optimizer = torch.optim.Adam(model.parameters(),lr=learning_rate)\n",
    "loss_fn = nn.BCELoss()"
   ]
  },
  {
   "cell_type": "code",
   "execution_count": 22,
   "metadata": {},
   "outputs": [
    {
     "name": "stdout",
     "output_type": "stream",
     "text": [
      "Epoch 001: | Loss: 0.57214\n",
      "Epoch 005: | Loss: 0.32918\n",
      "Epoch 010: | Loss: 0.32804\n",
      "Epoch 015: | Loss: 0.32455\n",
      "Epoch 020: | Loss: 0.32622\n",
      "Epoch 025: | Loss: 0.32649\n",
      "Epoch 030: | Loss: 0.32570\n",
      "Epoch 035: | Loss: 0.32524\n",
      "Epoch 040: | Loss: 0.32742\n"
     ]
    }
   ],
   "source": [
    "model.train()\n",
    "for i in range(1,epochs+1):\n",
    "    epoch_loss = 0\n",
    "    for j,(x_train,y_train) in enumerate(trainloader):\n",
    "        optimizer.zero_grad()\n",
    "        \n",
    "        #calculate output\n",
    "        output = model(x_train)\n",
    "\n",
    "        #calculate loss\n",
    "        loss = loss_fn(output,y_train.unsqueeze(1))\n",
    "\n",
    "        #backprop\n",
    "        loss.backward()\n",
    "        optimizer.step()\n",
    "        epoch_loss += loss.item()\n",
    "\n",
    "    if i%5==0 or i==1: print(f'Epoch {i+0:03}: | Loss: {epoch_loss/len(trainloader):.5f}')"
   ]
  },
  {
   "cell_type": "code",
   "execution_count": 23,
   "metadata": {},
   "outputs": [],
   "source": [
    "X_train, X_test, Y_train, Y_test = train_test_split(\n",
    "  X, Y, test_size=0.9, random_state=42)\n",
    "testdata = Data(X_test, Y_test)\n",
    "batch_size=len(Y_test)\n",
    "testloader = DataLoader(testdata, batch_size=batch_size, \n",
    "                         shuffle=True, num_workers=1)\n",
    "y_pred_list = []\n",
    "y_true_list = []\n",
    "model.eval()\n",
    "with torch.no_grad():\n",
    "    for X_batch, Y_batch in testloader:\n",
    "        y_test_pred = model(X_batch)\n",
    "        y_pred_list.append(y_test_pred.cpu().numpy())\n",
    "        y_true_list.append(Y_batch.cpu().numpy())\n",
    "\n",
    "y_pred_list = [a.squeeze().tolist() for a in y_pred_list]\n",
    "y_true_list = [a.squeeze().tolist() for a in y_true_list]"
   ]
  },
  {
   "cell_type": "code",
   "execution_count": 24,
   "metadata": {},
   "outputs": [
    {
     "data": {
      "image/png": "[encoded data removed]",
      "text/plain": [
       "<Figure size 432x288 with 1 Axes>"
      ]
     },
     "metadata": {
      "needs_background": "light"
     },
     "output_type": "display_data"
    }
   ],
   "source": [
    "truth_arr=np.asarray(y_true_list[0])\n",
    "pred_arr=np.asarray(y_pred_list[0])\n",
    "fpr, tpr, thresholds = roc_curve(truth_arr, pred_arr)\n",
    "auc = roc_auc_score(truth_arr, pred_arr)\n",
    "plt.figure()\n",
    "plt.plot(fpr,tpr,label=\"AUC=\"+str(auc))\n",
    "plt.ylabel('True Positive Rate')\n",
    "plt.xlabel('False Positive Rate')\n",
    "plt.legend(loc=4)\n",
    "plt.show()"
   ]
  },
  {
   "cell_type": "code",
   "execution_count": null,
   "metadata": {},
   "outputs": [],
   "source": []
  },
  {
   "cell_type": "code",
   "execution_count": null,
   "metadata": {},
   "outputs": [],
   "source": []
  }
 ],
 "metadata": {
  "kernelspec": {
   "display_name": "UFRC Python-3.10",
   "language": "python",
   "name": "python3-3.10-ufrc"
  },
  "language_info": {
   "codemirror_mode": {
    "name": "ipython",
    "version": 3
   },
   "file_extension": ".py",
   "mimetype": "text/x-python",
   "name": "python",
   "nbconvert_exporter": "python",
   "pygments_lexer": "ipython3",
   "version": "3.10.5"
  }
 },
 "nbformat": 4,
 "nbformat_minor": 4
}
